{
 "cells": [
  {
   "cell_type": "code",
   "execution_count": null,
   "id": "508fbde1",
   "metadata": {},
   "outputs": [],
   "source": [
    "!git clone https://github.com/ultralytics/yolov5"
   ]
  },
  {
   "cell_type": "code",
   "execution_count": null,
   "id": "f6f7fe8c",
   "metadata": {},
   "outputs": [],
   "source": [
    "!cd yolov5 & pip install -r requirements.txt"
   ]
  },
  {
   "cell_type": "code",
   "execution_count": 1,
   "id": "3fb8d923",
   "metadata": {},
   "outputs": [],
   "source": [
    "import torch\n",
    "from matplotlib import pyplot as plt\n",
    "import numpy as np\n",
    "import cv2\n",
    "from PIL import Image"
   ]
  },
  {
   "cell_type": "code",
   "execution_count": 2,
   "id": "2bdfa247",
   "metadata": {},
   "outputs": [
    {
     "name": "stderr",
     "output_type": "stream",
     "text": [
      "Downloading: \"https://github.com/ultralytics/yolov5/zipball/master\" to C:\\Users\\Kaiser/.cache\\torch\\hub\\master.zip\n",
      "YOLOv5  2023-10-25 Python-3.11.3 torch-2.0.1+cpu CPU\n",
      "\n",
      "Fusing layers... \n",
      "Model summary: 267 layers, 46215978 parameters, 0 gradients, 108.0 GFLOPs\n",
      "Adding AutoShape... \n"
     ]
    }
   ],
   "source": [
    "model=torch.hub.load('ultralytics/yolov5', 'custom', path='last.pt', force_reload=True)"
   ]
  },
  {
   "cell_type": "code",
   "execution_count": 3,
   "id": "08f8001a",
   "metadata": {},
   "outputs": [],
   "source": [
    "import math\n",
    "video_path = 'Buet.MOV'\n",
    "cap = cv2.VideoCapture(video_path)\n",
    "frame_width = int(cap.get(3))\n",
    "frame_height = int(cap.get(4))\n",
    "output_path = 'output_video.mov'\n",
    "out = cv2.VideoWriter(output_path, cv2.VideoWriter_fourcc(*'mp4v'), 30, (frame_width, frame_height))\n",
    "count = 0\n",
    "prev_frame = []\n",
    "tracking_object = {}\n",
    "object_id = 0\n",
    "\n",
    "while cap.isOpened():\n",
    "    ret, frame = cap.read()\n",
    "    if not ret:\n",
    "        break\n",
    "    count += 1\n",
    "    curr_frame = []\n",
    "    frame = Image.fromarray(cv2.cvtColor(frame, cv2.COLOR_BGR2RGB))\n",
    "    frame = frame.resize((640, 640))\n",
    "    results = model(frame)\n",
    "    render_frame = np.squeeze(results.render())\n",
    "    render_frame = cv2.cvtColor(render_frame, cv2.COLOR_RGB2BGR)\n",
    "    bounding_boxes = results.pred[0].tolist()\n",
    "    for box in bounding_boxes:\n",
    "        x, y, w, h = box[:4]\n",
    "        cx = int((x + w) / 2)\n",
    "        cy = int((y + h) / 2)\n",
    "        curr_frame.append((cx, cy))\n",
    "    \n",
    "    if count <= 2:\n",
    "        for point_1 in curr_frame:\n",
    "            for point_2 in prev_frame:\n",
    "                distance = math.hypot(point_2[0] - point_1[0], point_2[1] - point_1[1])\n",
    "                if distance < 20:\n",
    "                    tracking_object[object_id] = point_1\n",
    "                    object_id += 1\n",
    "    else:\n",
    "        # Check whether any vehicle here with id's\n",
    "        # so iterating on current frame for checking vehicle with id's\n",
    "        # if there is id's then no need to update\n",
    "        # if not then update\n",
    "        # check whether the object exists or not also\n",
    "        tracking_object_copy = tracking_object.copy()\n",
    "        curr_frame_copy = curr_frame.copy()\n",
    "        \n",
    "        for object_id, point_2 in tracking_object_copy.items():\n",
    "            object_exists = False\n",
    "            for point_1 in curr_frame:\n",
    "                distance = math.hypot(point_2[0] - point_1[0], point_2[1] - point_1[1])\n",
    "                if distance < 20:\n",
    "                    tracking_object[object_id] = point_1\n",
    "                    object_exists = True\n",
    "                    if point_1 in curr_frame_copy:\n",
    "                        curr_frame_copy.remove(point_1)\n",
    "                    continue\n",
    "            if not object_exists:\n",
    "                tracking_object.pop(object_id)\n",
    "        \n",
    "        for point_1 in curr_frame_copy:\n",
    "            tracking_object[object_id] = point_1\n",
    "            object_id += 1\n",
    "    for object_id, pt in tracking_object.items():\n",
    "        cv2.circle(render_frame, pt, 5, (0, 0, 255), -1)\n",
    "        cv2.putText(render_frame, str(object_id), (pt[0], pt[1] - 7), 0, 1, (0, 0, 255), 2)\n",
    "    \n",
    "    prev_frame = curr_frame.copy()\n",
    "    cv2.imshow('Object Detection', render_frame)\n",
    "    out.write(render_frame)\n",
    "\n",
    "    key = cv2.waitKey(1)\n",
    "    if key == 27:\n",
    "        break\n",
    "\n",
    "cap.release()\n",
    "out.release()\n",
    "cv2.destroyAllWindows()\n"
   ]
  }
 ],
 "metadata": {
  "kernelspec": {
   "display_name": "Python 3 (ipykernel)",
   "language": "python",
   "name": "python3"
  },
  "language_info": {
   "codemirror_mode": {
    "name": "ipython",
    "version": 3
   },
   "file_extension": ".py",
   "mimetype": "text/x-python",
   "name": "python",
   "nbconvert_exporter": "python",
   "pygments_lexer": "ipython3",
   "version": "3.11.3"
  }
 },
 "nbformat": 4,
 "nbformat_minor": 5
}
