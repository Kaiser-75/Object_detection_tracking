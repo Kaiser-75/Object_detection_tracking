{
 "cells": [
  {
   "cell_type": "code",
   "execution_count": 1,
   "id": "6374abe0",
   "metadata": {
    "collapsed": true
   },
   "outputs": [
    {
     "name": "stderr",
     "output_type": "stream",
     "text": [
      "fatal: destination path 'yolov5' already exists and is not an empty directory.\n"
     ]
    }
   ],
   "source": [
    "!git clone https://github.com/ultralytics/yolov5"
   ]
  },
  {
   "cell_type": "code",
   "execution_count": 2,
   "id": "661fbb87",
   "metadata": {
    "collapsed": true
   },
   "outputs": [
    {
     "name": "stdout",
     "output_type": "stream",
     "text": [
      "Defaulting to user installation because normal site-packages is not writeable\n",
      "Requirement already satisfied: gitpython>=3.1.30 in c:\\users\\kaiser\\appdata\\roaming\\python\\python311\\site-packages (from -r requirements.txt (line 5)) (3.1.35)\n",
      "Requirement already satisfied: matplotlib>=3.3 in c:\\programdata\\anaconda3\\lib\\site-packages (from -r requirements.txt (line 6)) (3.7.1)\n",
      "Requirement already satisfied: numpy>=1.22.2 in c:\\users\\kaiser\\appdata\\roaming\\python\\python311\\site-packages (from -r requirements.txt (line 7)) (1.26.1)\n",
      "Requirement already satisfied: opencv-python>=4.1.1 in c:\\users\\kaiser\\appdata\\roaming\\python\\python311\\site-packages (from -r requirements.txt (line 8)) (4.8.0.76)\n",
      "Requirement already satisfied: Pillow>=7.1.2 in c:\\programdata\\anaconda3\\lib\\site-packages (from -r requirements.txt (line 9)) (9.4.0)\n",
      "Requirement already satisfied: psutil in c:\\programdata\\anaconda3\\lib\\site-packages (from -r requirements.txt (line 10)) (5.9.0)\n",
      "Requirement already satisfied: PyYAML>=5.3.1 in c:\\programdata\\anaconda3\\lib\\site-packages (from -r requirements.txt (line 11)) (6.0)\n",
      "Requirement already satisfied: requests>=2.23.0 in c:\\programdata\\anaconda3\\lib\\site-packages (from -r requirements.txt (line 12)) (2.29.0)\n",
      "Requirement already satisfied: scipy>=1.4.1 in c:\\programdata\\anaconda3\\lib\\site-packages (from -r requirements.txt (line 13)) (1.10.1)\n",
      "Requirement already satisfied: thop>=0.1.1 in c:\\users\\kaiser\\appdata\\roaming\\python\\python311\\site-packages (from -r requirements.txt (line 14)) (0.1.1.post2209072238)\n",
      "Requirement already satisfied: torch>=1.8.0 in c:\\users\\kaiser\\appdata\\roaming\\python\\python311\\site-packages (from -r requirements.txt (line 15)) (2.0.1)\n",
      "Requirement already satisfied: torchvision>=0.9.0 in c:\\users\\kaiser\\appdata\\roaming\\python\\python311\\site-packages (from -r requirements.txt (line 16)) (0.15.2)\n",
      "Requirement already satisfied: tqdm>=4.64.0 in c:\\programdata\\anaconda3\\lib\\site-packages (from -r requirements.txt (line 17)) (4.65.0)\n",
      "Requirement already satisfied: ultralytics>=8.0.147 in c:\\users\\kaiser\\appdata\\roaming\\python\\python311\\site-packages (from -r requirements.txt (line 18)) (8.0.173)\n",
      "Requirement already satisfied: pandas>=1.1.4 in c:\\programdata\\anaconda3\\lib\\site-packages (from -r requirements.txt (line 27)) (1.5.3)\n",
      "Requirement already satisfied: seaborn>=0.11.0 in c:\\programdata\\anaconda3\\lib\\site-packages (from -r requirements.txt (line 28)) (0.12.2)\n",
      "Requirement already satisfied: setuptools>=65.5.1 in c:\\programdata\\anaconda3\\lib\\site-packages (from -r requirements.txt (line 42)) (67.8.0)\n",
      "Requirement already satisfied: gitdb<5,>=4.0.1 in c:\\users\\kaiser\\appdata\\roaming\\python\\python311\\site-packages (from gitpython>=3.1.30->-r requirements.txt (line 5)) (4.0.10)\n",
      "Requirement already satisfied: contourpy>=1.0.1 in c:\\programdata\\anaconda3\\lib\\site-packages (from matplotlib>=3.3->-r requirements.txt (line 6)) (1.0.5)\n",
      "Requirement already satisfied: cycler>=0.10 in c:\\programdata\\anaconda3\\lib\\site-packages (from matplotlib>=3.3->-r requirements.txt (line 6)) (0.11.0)\n",
      "Requirement already satisfied: fonttools>=4.22.0 in c:\\programdata\\anaconda3\\lib\\site-packages (from matplotlib>=3.3->-r requirements.txt (line 6)) (4.25.0)\n",
      "Requirement already satisfied: kiwisolver>=1.0.1 in c:\\programdata\\anaconda3\\lib\\site-packages (from matplotlib>=3.3->-r requirements.txt (line 6)) (1.4.4)\n",
      "Requirement already satisfied: packaging>=20.0 in c:\\programdata\\anaconda3\\lib\\site-packages (from matplotlib>=3.3->-r requirements.txt (line 6)) (23.0)\n",
      "Requirement already satisfied: pyparsing>=2.3.1 in c:\\programdata\\anaconda3\\lib\\site-packages (from matplotlib>=3.3->-r requirements.txt (line 6)) (3.0.9)\n",
      "Requirement already satisfied: python-dateutil>=2.7 in c:\\programdata\\anaconda3\\lib\\site-packages (from matplotlib>=3.3->-r requirements.txt (line 6)) (2.8.2)\n",
      "Requirement already satisfied: charset-normalizer<4,>=2 in c:\\programdata\\anaconda3\\lib\\site-packages (from requests>=2.23.0->-r requirements.txt (line 12)) (2.0.4)\n",
      "Requirement already satisfied: idna<4,>=2.5 in c:\\programdata\\anaconda3\\lib\\site-packages (from requests>=2.23.0->-r requirements.txt (line 12)) (3.4)\n",
      "Requirement already satisfied: urllib3<1.27,>=1.21.1 in c:\\programdata\\anaconda3\\lib\\site-packages (from requests>=2.23.0->-r requirements.txt (line 12)) (1.26.16)\n",
      "Requirement already satisfied: certifi>=2017.4.17 in c:\\programdata\\anaconda3\\lib\\site-packages (from requests>=2.23.0->-r requirements.txt (line 12)) (2023.5.7)\n",
      "Requirement already satisfied: filelock in c:\\programdata\\anaconda3\\lib\\site-packages (from torch>=1.8.0->-r requirements.txt (line 15)) (3.9.0)\n",
      "Requirement already satisfied: typing-extensions in c:\\users\\kaiser\\appdata\\roaming\\python\\python311\\site-packages (from torch>=1.8.0->-r requirements.txt (line 15)) (4.5.0)\n",
      "Requirement already satisfied: sympy in c:\\programdata\\anaconda3\\lib\\site-packages (from torch>=1.8.0->-r requirements.txt (line 15)) (1.11.1)\n",
      "Requirement already satisfied: networkx in c:\\programdata\\anaconda3\\lib\\site-packages (from torch>=1.8.0->-r requirements.txt (line 15)) (2.8.4)\n",
      "Requirement already satisfied: jinja2 in c:\\programdata\\anaconda3\\lib\\site-packages (from torch>=1.8.0->-r requirements.txt (line 15)) (3.1.2)\n",
      "Requirement already satisfied: colorama in c:\\programdata\\anaconda3\\lib\\site-packages (from tqdm>=4.64.0->-r requirements.txt (line 17)) (0.4.6)\n",
      "Requirement already satisfied: py-cpuinfo in c:\\programdata\\anaconda3\\lib\\site-packages (from ultralytics>=8.0.147->-r requirements.txt (line 18)) (8.0.0)\n",
      "Requirement already satisfied: pytz>=2020.1 in c:\\programdata\\anaconda3\\lib\\site-packages (from pandas>=1.1.4->-r requirements.txt (line 27)) (2022.7)\n",
      "Requirement already satisfied: smmap<6,>=3.0.1 in c:\\users\\kaiser\\appdata\\roaming\\python\\python311\\site-packages (from gitdb<5,>=4.0.1->gitpython>=3.1.30->-r requirements.txt (line 5)) (5.0.0)\n",
      "Requirement already satisfied: six>=1.5 in c:\\programdata\\anaconda3\\lib\\site-packages (from python-dateutil>=2.7->matplotlib>=3.3->-r requirements.txt (line 6)) (1.16.0)\n",
      "Requirement already satisfied: MarkupSafe>=2.0 in c:\\programdata\\anaconda3\\lib\\site-packages (from jinja2->torch>=1.8.0->-r requirements.txt (line 15)) (2.1.1)\n",
      "Requirement already satisfied: mpmath>=0.19 in c:\\programdata\\anaconda3\\lib\\site-packages (from sympy->torch>=1.8.0->-r requirements.txt (line 15)) (1.2.1)\n"
     ]
    }
   ],
   "source": [
    "!cd yolov5 & pip install -r requirements.txt"
   ]
  },
  {
   "cell_type": "markdown",
   "id": "92838558",
   "metadata": {},
   "source": [
    "## 1. Necessary Libraries"
   ]
  },
  {
   "cell_type": "code",
   "execution_count": 3,
   "id": "1a672085",
   "metadata": {},
   "outputs": [],
   "source": [
    "import torch\n",
    "from matplotlib import pyplot as plt\n",
    "import numpy as np\n",
    "import cv2\n",
    "from PIL import Image"
   ]
  },
  {
   "cell_type": "markdown",
   "id": "d3552d93",
   "metadata": {},
   "source": [
    "## 2. Model load by using torch"
   ]
  },
  {
   "cell_type": "code",
   "execution_count": 6,
   "id": "4f61c022",
   "metadata": {},
   "outputs": [
    {
     "name": "stderr",
     "output_type": "stream",
     "text": [
      "Downloading: \"https://github.com/ultralytics/yolov5/zipball/master\" to C:\\Users\\Kaiser/.cache\\torch\\hub\\master.zip\n",
      "YOLOv5  2023-10-24 Python-3.11.3 torch-2.0.1+cpu CPU\n",
      "\n",
      "Fusing layers... \n",
      "Model summary: 267 layers, 46215978 parameters, 0 gradients, 108.0 GFLOPs\n",
      "Adding AutoShape... \n"
     ]
    }
   ],
   "source": [
    "model=torch.hub.load('ultralytics/yolov5', 'custom', path='last.pt', force_reload=True)"
   ]
  },
  {
   "cell_type": "markdown",
   "id": "afcdf70e",
   "metadata": {},
   "source": [
    "## 3. Detection for image"
   ]
  },
  {
   "cell_type": "code",
   "execution_count": 8,
   "id": "71fe195c",
   "metadata": {},
   "outputs": [],
   "source": [
    "img_path='traffic-2.jpg'\n",
    "img=Image.open(img_path)\n",
    "img=img.resize((640,640))\n",
    "results=model(img)\n",
    "plt.imshow(np.squeeze(results.render()))\n",
    "plt.savefig('image.jpg')"
   ]
  },
  {
   "cell_type": "markdown",
   "id": "d3b929a8",
   "metadata": {},
   "source": [
    "## 4. Detection for a video and getting coordinate"
   ]
  },
  {
   "cell_type": "code",
   "execution_count": 9,
   "id": "24e5971c",
   "metadata": {},
   "outputs": [
    {
     "name": "stdout",
     "output_type": "stream",
     "text": [
      "[(431.3856506347656, 310.32110595703125, 505.2521667480469, 491.80126953125), (544.2477416992188, 359.93353271484375, 640.0, 633.4984130859375), (108.02964782714844, 322.8736877441406, 183.3735809326172, 523.130859375), (64.16227722167969, 258.144775390625, 126.60276794433594, 390.26556396484375), (122.60269165039062, 247.5032958984375, 167.20712280273438, 349.6810302734375), (313.4602966308594, 281.52886962890625, 403.0672912597656, 447.28839111328125), (164.25538635253906, 239.67718505859375, 192.9757843017578, 305.89532470703125), (1.1779937744140625, 251.46713256835938, 66.18443298339844, 421.0060119628906), (113.7607421875, 241.9701385498047, 134.1407928466797, 295.93890380859375), (486.4947814941406, 298.4250183105469, 531.6356201171875, 421.7850646972656), (184.74697875976562, 258.2726135253906, 254.75711059570312, 371.8681945800781), (94.4397201538086, 240.1968536376953, 114.92731475830078, 271.1415710449219), (61.671756744384766, 250.58645629882812, 98.640625, 341.6945495605469), (188.53282165527344, 241.85850524902344, 206.7834930419922, 263.73193359375), (0.17618751525878906, 249.70997619628906, 29.99663734436035, 477.89385986328125), (406.2008056640625, 285.9267272949219, 482.7894287109375, 384.9804992675781), (313.6321716308594, 282.4339294433594, 404.5455017089844, 447.0995178222656)]\n",
      "\n",
      "\n",
      "[(433.2318115234375, 309.69989013671875, 507.24822998046875, 493.734130859375), (547.4366455078125, 361.0548095703125, 640.0, 634.4749755859375), (113.39382934570312, 319.9950256347656, 188.01138305664062, 513.5233154296875), (67.58084106445312, 259.45855712890625, 127.10299682617188, 389.048095703125), (123.88746643066406, 248.153076171875, 167.81861877441406, 349.49957275390625), (164.78680419921875, 239.67877197265625, 191.99771118164062, 305.60150146484375), (1.8653221130371094, 251.04324340820312, 68.06416320800781, 415.1814270019531), (314.08251953125, 281.8765869140625, 404.89373779296875, 448.90924072265625), (186.29783630371094, 258.2509460449219, 254.55848693847656, 370.0821228027344), (94.58795166015625, 239.75538635253906, 115.30233764648438, 269.223876953125), (487.3031005859375, 298.677001953125, 529.2240600585938, 421.5103759765625), (114.07645416259766, 240.61209106445312, 133.318115234375, 294.0055847167969), (314.1043395996094, 282.701171875, 406.0249328613281, 448.97882080078125), (188.69000244140625, 241.8909912109375, 207.16644287109375, 264.5348815917969), (0.0, 253.5723876953125, 35.79917907714844, 487.6826171875), (406.24810791015625, 286.10589599609375, 483.3819580078125, 385.55853271484375), (61.37937927246094, 247.23915100097656, 97.98243713378906, 347.69915771484375)]\n",
      "\n",
      "\n",
      "[(70.820068359375, 261.5472106933594, 127.79594421386719, 388.1733703613281), (550.6253662109375, 360.3831787109375, 640.0, 634.559814453125), (435.0152282714844, 309.25164794921875, 510.6062927246094, 495.07586669921875), (120.72683715820312, 317.2669372558594, 190.11270141601562, 508.4468078613281), (124.58146667480469, 247.3619842529297, 168.5873260498047, 349.2423095703125), (165.3828125, 239.7058868408203, 192.21994018554688, 305.29132080078125), (2.8227806091308594, 252.1806640625, 69.03224182128906, 413.10150146484375), (314.5714111328125, 282.4173889160156, 406.96307373046875, 451.1722717285156), (187.60191345214844, 257.6531982421875, 255.0553741455078, 368.8175048828125), (404.4156494140625, 286.5425109863281, 483.8502197265625, 386.4246520996094), (0.0, 258.8255920410156, 37.795860290527344, 480.2756652832031), (94.75863647460938, 239.21652221679688, 115.80593872070312, 267.6836853027344), (315.2561340332031, 281.9979553222656, 407.5791931152344, 451.4934387207031), (189.6705780029297, 241.84292602539062, 207.3003692626953, 264.6766357421875), (490.0809326171875, 298.64892578125, 527.983642578125, 422.4376220703125), (113.50396728515625, 239.97921752929688, 133.19363403320312, 290.8644714355469), (63.20612716674805, 246.28472900390625, 102.861328125, 349.770751953125)]\n",
      "\n",
      "\n",
      "[(73.82981872558594, 260.5570068359375, 130.14796447753906, 387.36761474609375), (124.95525360107422, 247.76881408691406, 169.1331787109375, 349.7780456542969), (436.4986572265625, 308.85748291015625, 517.2164306640625, 494.59375), (125.71588134765625, 315.8914489746094, 192.91616821289062, 501.7841491699219), (554.7135009765625, 361.2336120605469, 639.7178955078125, 635.7208251953125), (314.8455810546875, 282.5928955078125, 408.989013671875, 453.36724853515625), (166.45401000976562, 239.40232849121094, 193.01449584960938, 304.77313232421875), (188.500244140625, 257.09771728515625, 254.15365600585938, 366.98687744140625), (3.5022125244140625, 251.42626953125, 70.7669677734375, 412.63909912109375), (405.0551452636719, 286.5939636230469, 484.8031921386719, 387.5918884277344), (0.0, 255.7822723388672, 41.64453887939453, 478.967041015625), (94.9760513305664, 239.2273406982422, 116.25130462646484, 266.84808349609375), (63.25116729736328, 247.63536071777344, 103.92778778076172, 351.2528381347656), (190.5739288330078, 241.51197814941406, 207.4764862060547, 265.4183349609375), (492.64215087890625, 299.01483154296875, 528.9819946289062, 422.7315673828125), (314.907470703125, 282.19659423828125, 409.7344970703125, 452.9005126953125)]\n",
      "\n",
      "\n"
     ]
    }
   ],
   "source": [
    "video_path='Buet.MOV'\n",
    "cap=cv2.VideoCapture(video_path)\n",
    "frame_width=int(cap.get(3))\n",
    "frame_height=int(cap.get(4))\n",
    "output_path='output_video.mov'\n",
    "out=cv2.VideoWriter(output_path,cv2.VideoWriter_fourcc(*'mp4v'),30,(frame_width,frame_height))\n",
    "bounding_box_coordinates=[]\n",
    "\n",
    "while cap.isOpened():\n",
    "    ret,frame=cap.read()\n",
    "    if not ret:\n",
    "        break\n",
    "    frame=Image.fromarray(cv2.cvtColor(frame,cv2.COLOR_BGR2RGB))\n",
    "    frame=frame.resize((640, 640))\n",
    "    results=model(frame)\n",
    "    render_frame=np.squeeze(results.render())\n",
    "    render_frame=cv2.cvtColor(render_frame, cv2.COLOR_RGB2BGR)\n",
    "    bounding_boxes=results.pred[0].tolist()\n",
    "    coordinates=[]\n",
    "    for box in bounding_boxes:\n",
    "        x,y,w,h=box[:4]\n",
    "        coordinates.append((x,y,w,h))\n",
    "    print(coordinates)\n",
    "    print('\\n')\n",
    "    cv2.imshow('Object Detection',render_frame)  \n",
    "    out.write(render_frame)\n",
    "    \n",
    "    key = cv2.waitKey(1)\n",
    "    if key == 27:\n",
    "        break\n",
    "        \n",
    "cap.release()\n",
    "out.release()\n",
    "cv2.destroyAllWindows()"
   ]
  }
 ],
 "metadata": {
  "kernelspec": {
   "display_name": "Python 3 (ipykernel)",
   "language": "python",
   "name": "python3"
  },
  "language_info": {
   "codemirror_mode": {
    "name": "ipython",
    "version": 3
   },
   "file_extension": ".py",
   "mimetype": "text/x-python",
   "name": "python",
   "nbconvert_exporter": "python",
   "pygments_lexer": "ipython3",
   "version": "3.11.3"
  }
 },
 "nbformat": 4,
 "nbformat_minor": 5
}
